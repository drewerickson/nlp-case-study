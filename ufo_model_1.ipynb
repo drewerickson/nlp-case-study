{
 "cells": [
  {
   "cell_type": "code",
   "execution_count": 2,
   "metadata": {
    "collapsed": false
   },
   "outputs": [],
   "source": [
    "import pandas as pd\n",
    "import numpy as np\n",
    "from sklearn.feature_extraction.text import TfidfVectorizer, CountVectorizer, ENGLISH_STOP_WORDS\n",
    "from nltk.corpus import stopwords\n",
    "from sklearn.decomposition import TruncatedSVD, NMF\n",
    "import nltk      \n",
    "from nltk.stem import WordNetLemmatizer  \n",
    "\n",
    "class LemmaTokenizer(object):     \n",
    "    def __init__(self):\n",
    "        self.wnl = WordNetLemmatizer()\n",
    "    def __call__(self, doc):\n",
    "        return [self.wnl.lemmatize(t) for t in word_tokenize(doc)]\n",
    "  \n"
   ]
  },
  {
   "cell_type": "code",
   "execution_count": 19,
   "metadata": {
    "collapsed": false
   },
   "outputs": [],
   "source": [
    "#NLP function\n",
    "def nlp (doc,stopwords='english',n_topics=10, function=TfidfVectorizer):\n",
    "    vectorizer = function(stop_words=stopwords)#,tokenizer=LemmaTokenizer())\n",
    "    doc_cnt = vectorizer.fit_transform(doc)\n",
    "    feature_words = vectorizer.get_feature_names()\n",
    "    nmf = NMF(n_components = n_topics, random_state=1).fit(doc_cnt)\n",
    "    \n",
    "    \n",
    "    return nmf, doc_cnt, feature_words\n",
    "\n",
    "#print top words for each topic:\n",
    "def print_top_words(model, feature_names, n_top_words):\n",
    "    #print model.components_\n",
    "    for topic_idx, topic in enumerate(model.components_):\n",
    "        print(\"Topic #%d:\" % (topic_idx+1))\n",
    "        print(\" \".join([feature_names[i] for i in topic.argsort()[:-n_top_words - 1:-1]]))\n",
    "\n",
    "\n"
   ]
  },
  {
   "cell_type": "code",
   "execution_count": 4,
   "metadata": {
    "collapsed": false
   },
   "outputs": [
    {
     "name": "stdout",
     "output_type": "stream",
     "text": [
      "(102172,)\n"
     ]
    }
   ],
   "source": [
    "#df = pd.read_csv(\"ufo_unstructured.csv\", header= None)\n",
    "df2 = pd.read_csv(\"ufo_data.csv\")\n",
    "df2.dropna(inplace=True)\n",
    "content = df2.ix[:,2].values\n",
    "print content.shape"
   ]
  },
  {
   "cell_type": "code",
   "execution_count": 5,
   "metadata": {
    "collapsed": false,
    "scrolled": true
   },
   "outputs": [
    {
     "data": {
      "text/html": [
       "<div>\n",
       "<table border=\"1\" class=\"dataframe\">\n",
       "  <thead>\n",
       "    <tr style=\"text-align: right;\">\n",
       "      <th></th>\n",
       "      <th>_id</th>\n",
       "      <th>State</th>\n",
       "      <th>User Comments</th>\n",
       "    </tr>\n",
       "  </thead>\n",
       "  <tbody>\n",
       "    <tr>\n",
       "      <th>0</th>\n",
       "      <td>S133978</td>\n",
       "      <td>NM</td>\n",
       "      <td>Light seen over mountain's east of Camp McGreg...</td>\n",
       "    </tr>\n",
       "    <tr>\n",
       "      <th>1</th>\n",
       "      <td>S133977</td>\n",
       "      <td>BC</td>\n",
       "      <td>Light in sky stationary.  Not a airplane or an...</td>\n",
       "    </tr>\n",
       "    <tr>\n",
       "      <th>2</th>\n",
       "      <td>S133974</td>\n",
       "      <td>TX</td>\n",
       "      <td>Flying saucer descends, possibly lands in Nort...</td>\n",
       "    </tr>\n",
       "    <tr>\n",
       "      <th>3</th>\n",
       "      <td>S133964</td>\n",
       "      <td>AZ</td>\n",
       "      <td>While letting my dog out, a very bright white ...</td>\n",
       "    </tr>\n",
       "    <tr>\n",
       "      <th>4</th>\n",
       "      <td>S133962</td>\n",
       "      <td>NE</td>\n",
       "      <td>A fire ball was moving in the atmosphere while...</td>\n",
       "    </tr>\n",
       "  </tbody>\n",
       "</table>\n",
       "</div>"
      ],
      "text/plain": [
       "       _id State                                      User Comments\n",
       "0  S133978    NM  Light seen over mountain's east of Camp McGreg...\n",
       "1  S133977    BC  Light in sky stationary.  Not a airplane or an...\n",
       "2  S133974    TX  Flying saucer descends, possibly lands in Nort...\n",
       "3  S133964    AZ  While letting my dog out, a very bright white ...\n",
       "4  S133962    NE  A fire ball was moving in the atmosphere while..."
      ]
     },
     "execution_count": 5,
     "metadata": {},
     "output_type": "execute_result"
    }
   ],
   "source": [
    "df2.head()"
   ]
  },
  {
   "cell_type": "code",
   "execution_count": null,
   "metadata": {
    "collapsed": false
   },
   "outputs": [],
   "source": [
    "lemma = nltk.wordnet.WordNetLemmatizer()\n",
    "doc_lem=[]\n",
    "\n",
    "for doc in content:\n",
    "    tokens = nltk.word_tokenize(doc.lower().replace(\".\",\"\").replace(',',''))\n",
    "    doc_lem.append(' '.join([str(lemma.lemmatize(w)) for w in tokens]))# if not w in stopwords.words('english')]))"
   ]
  },
  {
   "cell_type": "code",
   "execution_count": 15,
   "metadata": {
    "collapsed": false,
    "scrolled": true
   },
   "outputs": [
    {
     "name": "stdout",
     "output_type": "stream",
     "text": [
      "Topic #1:\n",
      "lights red white orange flashing triangle formation shaped moving triangular\n",
      "Topic #2:\n",
      "light white red green blue ball appeared flashing moved disappeared\n",
      "Topic #3:\n",
      "object shaped appeared white large flying moving red speed observed\n",
      "Topic #4:\n",
      "just seen time craft night moving thought looking right house\n",
      "Topic #5:\n",
      "bright moving orange white star fast slowly disappeared objects slow\n"
     ]
    }
   ],
   "source": [
    "\n",
    "stop_words = ENGLISH_STOP_WORDS.union(['sky','looked','like','noticed','did','know','saw','said','look','got','went','east','south','west','north','ufo'])\n",
    "\n",
    "#Count Vectorization\n",
    "model, doc_term_mat, feat_words = nlp(doc = content, stopwords=stop_words, n_comp=5, function=CountVectorizer)\n",
    "print_top_words(model, feat_words,10)\n",
    "\n",
    "\n"
   ]
  },
  {
   "cell_type": "code",
   "execution_count": 20,
   "metadata": {
    "collapsed": false
   },
   "outputs": [
    {
     "name": "stdout",
     "output_type": "stream",
     "text": [
      "Topic #1:\n",
      "lights red triangle flashing formation white green blue shape hovering\n",
      "Topic #2:\n",
      "light bright white green blue red ball flash disappeared moved\n",
      "Topic #3:\n",
      "object shaped flying craft large seen triangular hovering low cigar\n",
      "Topic #4:\n",
      "orange glowing fireball orbs ball orb objects sphere balls reddish\n",
      "Topic #5:\n",
      "moving fast slow slowly star objects high speed stars night\n"
     ]
    }
   ],
   "source": [
    "#TFIDF Vectorization\n",
    "model, doc_term_mat, feat_words = nlp(doc = content, stopwords=stop_words, n_topics=5, function=TfidfVectorizer)\n",
    "print_top_words(model, feat_words,10)"
   ]
  },
  {
   "cell_type": "code",
   "execution_count": null,
   "metadata": {
    "collapsed": false
   },
   "outputs": [],
   "source": [
    "#attempt to link the most popular words with corresponding comments\n",
    "feat_words = np.array(feat_words)\n",
    "index = np.where( feat_words == 'green' )[0][0]\n",
    "index_col = doc_term_mat.todense()\n",
    "print index_col\n",
    "print np.argsort(index_col)\n",
    "index_cols = np.argsort(index_col)[-5:][::-1]\n",
    "print index_cols\n",
    "#max_ = np.max(index_col)\n",
    "#index_max_ = np.where( index_col == max_ )[0][0]\n",
    "print index_cols\n",
    "top_5_list = [content[i] for i in index_cols]\n",
    "\n",
    "top_5_list"
   ]
  },
  {
   "cell_type": "code",
   "execution_count": 168,
   "metadata": {
    "collapsed": false
   },
   "outputs": [
    {
     "name": "stdout",
     "output_type": "stream",
     "text": [
      "Light seen over mountain's east of Camp McGregor.  It hovered in one spot.  It looked like a helicopter light at first.  But it was way to bright.  Then it went to a higher height.  Stayed there for a while.  Then disappeared.\n",
      "\n",
      "\n",
      "((NUFORC Note:  Report appears to us to be consistent with the sighting of Venus.  PD))\n",
      "[\"light seen over mountain 's east of camp mcgregor it hovered in one spot it looked like a helicopter light at first but it wa way to bright then it went to a higher height stayed there for a while then disappeared ( ( nuforc note : report appears to u to be consistent with the sighting of venus pd ) )\"]\n"
     ]
    }
   ],
   "source": [
    "#lemmatizer test\n",
    "lemma = nltk.wordnet.WordNetLemmatizer()\n",
    "doc_tokens=[]\n",
    "\n",
    "for doc in content:\n",
    "    tokens = nltk.word_tokenize(doc.lower().replace(\".\",\"\").replace(',',''))\n",
    "    print doc\n",
    "    doc_tokens.append(' '.join([str(lemma.lemmatize(w)) for w in tokens]))# if not w in stopwords.words('english')]))\n",
    "    print doc_tokens\n",
    "    break\n",
    "#print doc_tokens[:10]"
   ]
  },
  {
   "cell_type": "code",
   "execution_count": null,
   "metadata": {
    "collapsed": true
   },
   "outputs": [],
   "source": []
  }
 ],
 "metadata": {
  "kernelspec": {
   "display_name": "Python 2",
   "language": "python",
   "name": "python2"
  },
  "language_info": {
   "codemirror_mode": {
    "name": "ipython",
    "version": 2
   },
   "file_extension": ".py",
   "mimetype": "text/x-python",
   "name": "python",
   "nbconvert_exporter": "python",
   "pygments_lexer": "ipython2",
   "version": "2.7.13"
  }
 },
 "nbformat": 4,
 "nbformat_minor": 2
}
